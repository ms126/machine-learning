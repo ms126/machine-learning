{
 "cells": [
  {
   "cell_type": "code",
   "execution_count": 2,
   "id": "5b0e2512",
   "metadata": {},
   "outputs": [],
   "source": [
    "import numpy as np\n",
    "import pandas as pd"
   ]
  },
  {
   "cell_type": "markdown",
   "id": "c0f2abdf",
   "metadata": {},
   "source": [
    "### **Misha Suresh**\n",
    "\n",
    "\n",
    "# Q1. K-means Clustering\n",
    "\n",
    "$1.$ What is the center of the first cluster (red) after one iteration?"
   ]
  },
  {
   "cell_type": "code",
   "execution_count": 37,
   "id": "60823f8f",
   "metadata": {},
   "outputs": [
    {
     "data": {
      "text/html": [
       "<div>\n",
       "<style scoped>\n",
       "    .dataframe tbody tr th:only-of-type {\n",
       "        vertical-align: middle;\n",
       "    }\n",
       "\n",
       "    .dataframe tbody tr th {\n",
       "        vertical-align: top;\n",
       "    }\n",
       "\n",
       "    .dataframe thead th {\n",
       "        text-align: right;\n",
       "    }\n",
       "</style>\n",
       "<table border=\"1\" class=\"dataframe\">\n",
       "  <thead>\n",
       "    <tr style=\"text-align: right;\">\n",
       "      <th></th>\n",
       "      <th>Data</th>\n",
       "      <th>Red (6.2, 3.2)</th>\n",
       "      <th>Blue (6.5, 3.0)</th>\n",
       "      <th>Green (6.6, 3.7)</th>\n",
       "    </tr>\n",
       "  </thead>\n",
       "  <tbody>\n",
       "    <tr>\n",
       "      <th>0</th>\n",
       "      <td>(5.9, 3.2)</td>\n",
       "      <td>0.30</td>\n",
       "      <td>0.63</td>\n",
       "      <td>0.86</td>\n",
       "    </tr>\n",
       "    <tr>\n",
       "      <th>1</th>\n",
       "      <td>(4.6, 2.9)</td>\n",
       "      <td>1.63</td>\n",
       "      <td>1.90</td>\n",
       "      <td>2.15</td>\n",
       "    </tr>\n",
       "    <tr>\n",
       "      <th>2</th>\n",
       "      <td>(6.2, 2.8)</td>\n",
       "      <td>0.40</td>\n",
       "      <td>0.36</td>\n",
       "      <td>0.98</td>\n",
       "    </tr>\n",
       "    <tr>\n",
       "      <th>3</th>\n",
       "      <td>(4.7, 3.2)</td>\n",
       "      <td>1.50</td>\n",
       "      <td>1.81</td>\n",
       "      <td>1.96</td>\n",
       "    </tr>\n",
       "    <tr>\n",
       "      <th>4</th>\n",
       "      <td>(5.0, 3.0)</td>\n",
       "      <td>1.22</td>\n",
       "      <td>1.50</td>\n",
       "      <td>1.75</td>\n",
       "    </tr>\n",
       "    <tr>\n",
       "      <th>5</th>\n",
       "      <td>(5.5, 4.2)</td>\n",
       "      <td>1.22</td>\n",
       "      <td>1.56</td>\n",
       "      <td>1.21</td>\n",
       "    </tr>\n",
       "    <tr>\n",
       "      <th>6</th>\n",
       "      <td>(4.9, 3.1)</td>\n",
       "      <td>1.30</td>\n",
       "      <td>1.60</td>\n",
       "      <td>1.80</td>\n",
       "    </tr>\n",
       "    <tr>\n",
       "      <th>7</th>\n",
       "      <td>(6.7, 3.1)</td>\n",
       "      <td>0.51</td>\n",
       "      <td>0.22</td>\n",
       "      <td>0.61</td>\n",
       "    </tr>\n",
       "    <tr>\n",
       "      <th>8</th>\n",
       "      <td>(5.1, 3.8)</td>\n",
       "      <td>1.25</td>\n",
       "      <td>1.61</td>\n",
       "      <td>1.50</td>\n",
       "    </tr>\n",
       "    <tr>\n",
       "      <th>9</th>\n",
       "      <td>(6.0, 3.0)</td>\n",
       "      <td>0.28</td>\n",
       "      <td>0.50</td>\n",
       "      <td>0.92</td>\n",
       "    </tr>\n",
       "  </tbody>\n",
       "</table>\n",
       "</div>"
      ],
      "text/plain": [
       "         Data  Red (6.2, 3.2)  Blue (6.5, 3.0)  Green (6.6, 3.7)\n",
       "0  (5.9, 3.2)            0.30             0.63              0.86\n",
       "1  (4.6, 2.9)            1.63             1.90              2.15\n",
       "2  (6.2, 2.8)            0.40             0.36              0.98\n",
       "3  (4.7, 3.2)            1.50             1.81              1.96\n",
       "4  (5.0, 3.0)            1.22             1.50              1.75\n",
       "5  (5.5, 4.2)            1.22             1.56              1.21\n",
       "6  (4.9, 3.1)            1.30             1.60              1.80\n",
       "7  (6.7, 3.1)            0.51             0.22              0.61\n",
       "8  (5.1, 3.8)            1.25             1.61              1.50\n",
       "9  (6.0, 3.0)            0.28             0.50              0.92"
      ]
     },
     "execution_count": 37,
     "metadata": {},
     "output_type": "execute_result"
    }
   ],
   "source": [
    "# Using Euclidean Distance\n",
    "data = {\n",
    "    'Data': [(5.9, 3.2), (4.6, 2.9), (6.2, 2.8), (4.7, 3.2), (5.0, 3.0), (5.5, 4.2), (4.9, 3.1), (6.7, 3.1), (5.1, 3.8), (6.0, 3.0)],\n",
    "    'Red (6.2, 3.2)': [0.30, 1.63, 0.40, 1.50, 1.22, 1.22, 1.30, 0.51, 1.25, 0.28],\n",
    "    'Blue (6.5, 3.0)': [0.63, 1.90, 0.36, 1.81, 1.50, 1.56, 1.60, 0.22, 1.61, 0.50],\n",
    "    'Green (6.6, 3.7)': [0.86, 2.15, 0.98, 1.96, 1.75, 1.21, 1.80, 0.61, 1.50, 0.92]\n",
    "}\n",
    "\n",
    "df = pd.DataFrame(data)\n",
    "df"
   ]
  },
  {
   "cell_type": "code",
   "execution_count": 42,
   "id": "03a49a50",
   "metadata": {},
   "outputs": [
    {
     "data": {
      "text/html": [
       "<div>\n",
       "<style scoped>\n",
       "    .dataframe tbody tr th:only-of-type {\n",
       "        vertical-align: middle;\n",
       "    }\n",
       "\n",
       "    .dataframe tbody tr th {\n",
       "        vertical-align: top;\n",
       "    }\n",
       "\n",
       "    .dataframe thead th {\n",
       "        text-align: right;\n",
       "    }\n",
       "</style>\n",
       "<table border=\"1\" class=\"dataframe\">\n",
       "  <thead>\n",
       "    <tr style=\"text-align: right;\">\n",
       "      <th></th>\n",
       "      <th>Data</th>\n",
       "      <th>Red (5.17, 3.17)</th>\n",
       "      <th>Blue (6.45, 2.95)</th>\n",
       "      <th>Green (5.5, 4.2)</th>\n",
       "    </tr>\n",
       "  </thead>\n",
       "  <tbody>\n",
       "    <tr>\n",
       "      <th>0</th>\n",
       "      <td>(5.9, 3.2)</td>\n",
       "      <td>0.73</td>\n",
       "      <td>0.60</td>\n",
       "      <td>1.08</td>\n",
       "    </tr>\n",
       "    <tr>\n",
       "      <th>1</th>\n",
       "      <td>(4.6, 2.9)</td>\n",
       "      <td>0.63</td>\n",
       "      <td>1.85</td>\n",
       "      <td>1.58</td>\n",
       "    </tr>\n",
       "    <tr>\n",
       "      <th>2</th>\n",
       "      <td>(6.2, 2.8)</td>\n",
       "      <td>1.09</td>\n",
       "      <td>0.29</td>\n",
       "      <td>1.57</td>\n",
       "    </tr>\n",
       "    <tr>\n",
       "      <th>3</th>\n",
       "      <td>(4.7, 3.2)</td>\n",
       "      <td>0.47</td>\n",
       "      <td>1.77</td>\n",
       "      <td>1.28</td>\n",
       "    </tr>\n",
       "    <tr>\n",
       "      <th>4</th>\n",
       "      <td>(5.0, 3.0)</td>\n",
       "      <td>0.24</td>\n",
       "      <td>1.45</td>\n",
       "      <td>1.30</td>\n",
       "    </tr>\n",
       "    <tr>\n",
       "      <th>5</th>\n",
       "      <td>(5.5, 4.2)</td>\n",
       "      <td>1.08</td>\n",
       "      <td>1.57</td>\n",
       "      <td>0.00</td>\n",
       "    </tr>\n",
       "    <tr>\n",
       "      <th>6</th>\n",
       "      <td>(4.9, 3.1)</td>\n",
       "      <td>0.28</td>\n",
       "      <td>1.56</td>\n",
       "      <td>1.25</td>\n",
       "    </tr>\n",
       "    <tr>\n",
       "      <th>7</th>\n",
       "      <td>(6.7, 3.1)</td>\n",
       "      <td>1.53</td>\n",
       "      <td>0.29</td>\n",
       "      <td>1.63</td>\n",
       "    </tr>\n",
       "    <tr>\n",
       "      <th>8</th>\n",
       "      <td>(5.1, 3.8)</td>\n",
       "      <td>0.63</td>\n",
       "      <td>1.60</td>\n",
       "      <td>0.57</td>\n",
       "    </tr>\n",
       "    <tr>\n",
       "      <th>9</th>\n",
       "      <td>(6.0, 3.0)</td>\n",
       "      <td>0.85</td>\n",
       "      <td>0.45</td>\n",
       "      <td>1.30</td>\n",
       "    </tr>\n",
       "  </tbody>\n",
       "</table>\n",
       "</div>"
      ],
      "text/plain": [
       "         Data  Red (5.17, 3.17)  Blue (6.45, 2.95)  Green (5.5, 4.2)\n",
       "0  (5.9, 3.2)              0.73               0.60              1.08\n",
       "1  (4.6, 2.9)              0.63               1.85              1.58\n",
       "2  (6.2, 2.8)              1.09               0.29              1.57\n",
       "3  (4.7, 3.2)              0.47               1.77              1.28\n",
       "4  (5.0, 3.0)              0.24               1.45              1.30\n",
       "5  (5.5, 4.2)              1.08               1.57              0.00\n",
       "6  (4.9, 3.1)              0.28               1.56              1.25\n",
       "7  (6.7, 3.1)              1.53               0.29              1.63\n",
       "8  (5.1, 3.8)              0.63               1.60              0.57\n",
       "9  (6.0, 3.0)              0.85               0.45              1.30"
      ]
     },
     "execution_count": 42,
     "metadata": {},
     "output_type": "execute_result"
    }
   ],
   "source": [
    "# Using Euclidean Distance -- for second iteration\n",
    "second_iter = {\n",
    "    'Data': [(5.9, 3.2), (4.6, 2.9), (6.2, 2.8), (4.7, 3.2), (5.0, 3.0), (5.5, 4.2), (4.9, 3.1), (6.7, 3.1), (5.1, 3.8), (6.0, 3.0)],\n",
    "    'Red (5.17, 3.17)': [0.73, 0.63, 1.09, 0.47, 0.24, 1.08, 0.28, 1.53, 0.63, 0.85],\n",
    "    'Blue (6.45, 2.95)': [0.60, 1.85, 0.29, 1.77, 1.45, 1.57, 1.56, 0.29, 1.60, 0.45],\n",
    "    'Green (5.5, 4.2)': [1.08, 1.58, 1.57, 1.28, 1.30, 0.00, 1.25, 1.63, 0.57, 1.30]\n",
    "}\n",
    "\n",
    "new_df = pd.DataFrame(second_iter)\n",
    "new_df"
   ]
  },
  {
   "cell_type": "code",
   "execution_count": 43,
   "id": "c7e2c85d",
   "metadata": {},
   "outputs": [
    {
     "name": "stdout",
     "output_type": "stream",
     "text": [
      "Center of red cluster after one iteration is: (5.171428571428572, 3.1714285714285713)\n",
      "Center of blue cluster after one iteration is: (6.45, 2.95)\n"
     ]
    }
   ],
   "source": [
    "# Take average of points assigned to red cluster: \n",
    "# (5.9, 3.2), (4.6, 2.9), (4.7, 3.2), (5.0, 3.0), (4.9, 3.1), (5.1, 3.8), (6.0, 3.0)\n",
    "\n",
    "x1 = np.mean([5.9, 4.6, 4.7, 5.0, 4.9, 5.1, 6.0])\n",
    "x2 = np.mean([3.2, 2.9, 3.2, 3.0, 3.1, 3.8, 3.0])\n",
    "\n",
    "print(f\"Center of red cluster after one iteration is: ({x1}, {x2})\")\n",
    "\n",
    "# Take average of points assigned to blue cluster: \n",
    "# (6.2, 2.8), (6.7, 3.1)\n",
    "\n",
    "z1 = np.mean([6.2, 6.7])\n",
    "z2 = np.mean([2.8, 3.1])\n",
    "\n",
    "print(f\"Center of blue cluster after one iteration is: ({z1}, {z2})\")"
   ]
  },
  {
   "cell_type": "markdown",
   "id": "9486fbc9",
   "metadata": {},
   "source": [
    "$2.$ What is the center of the second cluster (green) after two iterations?"
   ]
  },
  {
   "cell_type": "code",
   "execution_count": 44,
   "id": "1bf55e41",
   "metadata": {},
   "outputs": [
    {
     "name": "stdout",
     "output_type": "stream",
     "text": [
      "Center of green cluster after two iterations is: (5.3, 4.0)\n"
     ]
    }
   ],
   "source": [
    "# Points assigned to green cluster: \n",
    "# (5.5, 4.2)\n",
    "\n",
    "# After first iteration:\n",
    "x = (5.5, 4.2)\n",
    "\n",
    "# Second iteration: \n",
    "# Points assigned after first iteration: \n",
    "# (5.5, 4.2), (5.1, 3.8)\n",
    "\n",
    "new_x1 = np.mean([5.5, 5.1])\n",
    "new_x2 = np.mean([4.2, 3.8])\n",
    "\n",
    "print(f\"Center of green cluster after two iterations is: ({new_x1}, {new_x2})\")"
   ]
  },
  {
   "cell_type": "code",
   "execution_count": 56,
   "id": "ed9456db",
   "metadata": {},
   "outputs": [
    {
     "name": "stdout",
     "output_type": "stream",
     "text": [
      "Center of red cluster after two iterations is: (4.800000000000001, 3.05)\n",
      "Center of blue cluster after two iterations is: (6.2, 3.025)\n"
     ]
    }
   ],
   "source": [
    "# Points assigned to red cluster after 2 iter: \n",
    "# (4.6, 2.9), (4.7, 3.2), (5.0, 3.0), (4.9, 3.1)\n",
    "red1 = np.mean([4.6, 4.7, 5.0, 4.9])\n",
    "red2 = np.mean([2.9, 3.2, 3.0, 3.1])\n",
    "\n",
    "# Points assigned to blue cluster after 2 iter:\n",
    "# (5.9, 3.2), (6.2, 2.8), (6.7, 3.1), (6.0, 3.0)\n",
    "blue1 = np.mean([5.9, 6.2, 6.7, 6.0])\n",
    "blue2 = np.mean([3.2, 2.8, 3.1, 3.0])\n",
    "\n",
    "print(f\"Center of red cluster after two iterations is: ({red1}, {red2})\")\n",
    "print(f\"Center of blue cluster after two iterations is: ({blue1}, {blue2})\")"
   ]
  },
  {
   "cell_type": "code",
   "execution_count": 57,
   "id": "edc61459",
   "metadata": {},
   "outputs": [
    {
     "data": {
      "text/html": [
       "<div>\n",
       "<style scoped>\n",
       "    .dataframe tbody tr th:only-of-type {\n",
       "        vertical-align: middle;\n",
       "    }\n",
       "\n",
       "    .dataframe tbody tr th {\n",
       "        vertical-align: top;\n",
       "    }\n",
       "\n",
       "    .dataframe thead th {\n",
       "        text-align: right;\n",
       "    }\n",
       "</style>\n",
       "<table border=\"1\" class=\"dataframe\">\n",
       "  <thead>\n",
       "    <tr style=\"text-align: right;\">\n",
       "      <th></th>\n",
       "      <th>Data</th>\n",
       "      <th>Red (4.8, 3.05)</th>\n",
       "      <th>Blue (6.2, 3.03)</th>\n",
       "      <th>Green (5.3, 4.0)</th>\n",
       "    </tr>\n",
       "  </thead>\n",
       "  <tbody>\n",
       "    <tr>\n",
       "      <th>0</th>\n",
       "      <td>(5.9, 3.2)</td>\n",
       "      <td>1.11</td>\n",
       "      <td>0.35</td>\n",
       "      <td>1.00</td>\n",
       "    </tr>\n",
       "    <tr>\n",
       "      <th>1</th>\n",
       "      <td>(4.6, 2.9)</td>\n",
       "      <td>0.25</td>\n",
       "      <td>1.61</td>\n",
       "      <td>1.30</td>\n",
       "    </tr>\n",
       "    <tr>\n",
       "      <th>2</th>\n",
       "      <td>(6.2, 2.8)</td>\n",
       "      <td>1.42</td>\n",
       "      <td>0.23</td>\n",
       "      <td>1.50</td>\n",
       "    </tr>\n",
       "    <tr>\n",
       "      <th>3</th>\n",
       "      <td>(4.7, 3.2)</td>\n",
       "      <td>0.18</td>\n",
       "      <td>1.51</td>\n",
       "      <td>1.00</td>\n",
       "    </tr>\n",
       "    <tr>\n",
       "      <th>4</th>\n",
       "      <td>(5.0, 3.0)</td>\n",
       "      <td>0.21</td>\n",
       "      <td>1.20</td>\n",
       "      <td>1.04</td>\n",
       "    </tr>\n",
       "    <tr>\n",
       "      <th>5</th>\n",
       "      <td>(5.5, 4.2)</td>\n",
       "      <td>1.35</td>\n",
       "      <td>1.36</td>\n",
       "      <td>0.00</td>\n",
       "    </tr>\n",
       "    <tr>\n",
       "      <th>6</th>\n",
       "      <td>(4.9, 3.1)</td>\n",
       "      <td>0.11</td>\n",
       "      <td>1.30</td>\n",
       "      <td>0.98</td>\n",
       "    </tr>\n",
       "    <tr>\n",
       "      <th>7</th>\n",
       "      <td>(6.7, 3.1)</td>\n",
       "      <td>1.90</td>\n",
       "      <td>0.50</td>\n",
       "      <td>1.66</td>\n",
       "    </tr>\n",
       "    <tr>\n",
       "      <th>8</th>\n",
       "      <td>(5.1, 3.8)</td>\n",
       "      <td>0.81</td>\n",
       "      <td>1.34</td>\n",
       "      <td>0.28</td>\n",
       "    </tr>\n",
       "    <tr>\n",
       "      <th>9</th>\n",
       "      <td>(6.0, 3.0)</td>\n",
       "      <td>1.20</td>\n",
       "      <td>0.21</td>\n",
       "      <td>1.22</td>\n",
       "    </tr>\n",
       "  </tbody>\n",
       "</table>\n",
       "</div>"
      ],
      "text/plain": [
       "         Data  Red (4.8, 3.05)  Blue (6.2, 3.03)  Green (5.3, 4.0)\n",
       "0  (5.9, 3.2)             1.11              0.35              1.00\n",
       "1  (4.6, 2.9)             0.25              1.61              1.30\n",
       "2  (6.2, 2.8)             1.42              0.23              1.50\n",
       "3  (4.7, 3.2)             0.18              1.51              1.00\n",
       "4  (5.0, 3.0)             0.21              1.20              1.04\n",
       "5  (5.5, 4.2)             1.35              1.36              0.00\n",
       "6  (4.9, 3.1)             0.11              1.30              0.98\n",
       "7  (6.7, 3.1)             1.90              0.50              1.66\n",
       "8  (5.1, 3.8)             0.81              1.34              0.28\n",
       "9  (6.0, 3.0)             1.20              0.21              1.22"
      ]
     },
     "execution_count": 57,
     "metadata": {},
     "output_type": "execute_result"
    }
   ],
   "source": [
    "# Using Euclidean Distance -- for third iteration\n",
    "third_iter = {\n",
    "    'Data': [(5.9, 3.2), (4.6, 2.9), (6.2, 2.8), (4.7, 3.2), (5.0, 3.0), (5.5, 4.2), (4.9, 3.1), (6.7, 3.1), (5.1, 3.8), (6.0, 3.0)],\n",
    "    'Red (4.8, 3.05)': [1.11, 0.25, 1.42, 0.18, 0.21, 1.35, 0.11, 1.9, 0.81, 1.2],\n",
    "    'Blue (6.2, 3.03)': [0.35, 1.61, 0.23, 1.51, 1.2, 1.36, 1.3, 0.5, 1.34, 0.21],\n",
    "    'Green (5.3, 4.0)': [1.0, 1.3, 1.5, 1.0, 1.04, 0.00, 0.98, 1.66, 0.28, 1.22]\n",
    "}\n",
    "\n",
    "df = pd.DataFrame(third_iter)\n",
    "df"
   ]
  },
  {
   "cell_type": "markdown",
   "id": "1d852cf7",
   "metadata": {},
   "source": [
    "$3.$ What is the center of the third cluster (blue) when the clustering converges?"
   ]
  },
  {
   "cell_type": "code",
   "execution_count": 60,
   "id": "d2883ff3",
   "metadata": {},
   "outputs": [
    {
     "name": "stdout",
     "output_type": "stream",
     "text": [
      "Center of blue cluster after three iterations is: (6.2, 3.025)\n"
     ]
    }
   ],
   "source": [
    "# Points assigned to blue cluster after 3 iter:\n",
    "# (5.9, 3.2), (6.2, 2.8), (6.7, 3.1), (6.0, 3.0)\n",
    "x1 = np.mean([5.9, 6.2, 6.7, 6.0])\n",
    "x2 = np.mean([3.2, 2.8, 3.1, 3.0])\n",
    "print(f\"Center of blue cluster after three iterations is: ({x1}, {x2})\")"
   ]
  },
  {
   "cell_type": "markdown",
   "id": "c1e1c2de",
   "metadata": {},
   "source": [
    "$4.$ How many iterations are required for the clusters to converge?"
   ]
  },
  {
   "cell_type": "code",
   "execution_count": 61,
   "id": "0e573c44",
   "metadata": {},
   "outputs": [
    {
     "name": "stdout",
     "output_type": "stream",
     "text": [
      "Center of red cluster after three iterations is: (4.800000000000001, 3.05)\n"
     ]
    }
   ],
   "source": [
    "# Points assigned to red cluster after 3 iter:\n",
    "# (4.6, 2.9), (4.7, 3.2), (5.0, 3.0), (4.9, 3.1)\n",
    "x1 = np.mean([4.6, 4.7, 5.0, 4.9])\n",
    "x2 = np.mean([2.9, 3.2, 3.0, 3.1])\n",
    "print(f\"Center of red cluster after three iterations is: ({x1}, {x2})\")"
   ]
  },
  {
   "cell_type": "markdown",
   "id": "933d7cb5",
   "metadata": {},
   "source": [
    "We can see that the clusters converge after **2** iterations."
   ]
  },
  {
   "cell_type": "markdown",
   "id": "f3381556",
   "metadata": {},
   "source": [
    "# Q2. Hierarchical Clustering"
   ]
  },
  {
   "cell_type": "code",
   "execution_count": 70,
   "id": "8a1b41da",
   "metadata": {},
   "outputs": [],
   "source": [
    "red = np.array([(4.7, 3.2), (4.9, 3.1), (5.0, 3.0), (4.6, 2.9)])\n",
    "blue = np.array([(5.9, 3.2), (6.0, 3.0), (6.7, 3.1), (6.2, 2.8)])"
   ]
  },
  {
   "cell_type": "markdown",
   "id": "f81750ed",
   "metadata": {},
   "source": [
    "$1.$ What is the distance between the two clusters if we use the complete linkage?"
   ]
  },
  {
   "cell_type": "code",
   "execution_count": 76,
   "id": "af50eefa",
   "metadata": {},
   "outputs": [
    {
     "name": "stdout",
     "output_type": "stream",
     "text": [
      "The distance between the two clusters using complete linkage is: 2.109502310972899.\n"
     ]
    }
   ],
   "source": [
    "# Euclidean distances between all points\n",
    "distances = np.linalg.norm(red[:, np.newaxis, :] - blue, axis=2)\n",
    "max_dist = np.max(distances)\n",
    "print(f\"The distance between the two clusters using complete linkage is: {max_dist}.\")"
   ]
  },
  {
   "cell_type": "markdown",
   "id": "a0a2485f",
   "metadata": {},
   "source": [
    "$2.$ What is the distance between the two clusters if we use the single linkage?"
   ]
  },
  {
   "cell_type": "code",
   "execution_count": 77,
   "id": "8bdc7eec",
   "metadata": {},
   "outputs": [
    {
     "name": "stdout",
     "output_type": "stream",
     "text": [
      "The distance between the two clusters using single linkage is: 0.9219544457292891.\n"
     ]
    }
   ],
   "source": [
    "# Euclidean distances between all points\n",
    "distances = distances = np.linalg.norm(red[:, np.newaxis, :] - blue, axis=2)\n",
    "min_dist = np.min(distances)\n",
    "print(f\"The distance between the two clusters using single linkage is: {min_dist}.\")"
   ]
  },
  {
   "cell_type": "markdown",
   "id": "527aba14",
   "metadata": {},
   "source": [
    "$3.$ What is the distance between the two clusters if we use the average linkage?"
   ]
  },
  {
   "cell_type": "code",
   "execution_count": 78,
   "id": "2b4ee411",
   "metadata": {},
   "outputs": [
    {
     "name": "stdout",
     "output_type": "stream",
     "text": [
      "The distance between the two clusters using single linkage is: 1.4128564854895742.\n"
     ]
    }
   ],
   "source": [
    "# Euclidean distances between all points\n",
    "distances = distances = np.linalg.norm(red[:, np.newaxis, :] - blue, axis=2)\n",
    "avg_dist = np.mean(distances)\n",
    "print(f\"The distance between the two clusters using single linkage is: {avg_dist}.\")"
   ]
  },
  {
   "cell_type": "markdown",
   "id": "46908688",
   "metadata": {},
   "source": [
    "# Q3. Spectral Clustering"
   ]
  },
  {
   "cell_type": "markdown",
   "id": "2f932c8f",
   "metadata": {},
   "source": [
    "$1.$ Write down the Laplacian matrix of this graph\n",
    "\n",
    "$L = D - A$\n",
    "\n",
    "$\\begin{bmatrix}\n",
    "2&0&0&0&0&0&0\\\\\n",
    "0&2&0&0&0&0&0\\\\\n",
    "0&0&2&0&0&0&0\\\\\n",
    "0&0&0&1&0&0&0\\\\\n",
    "0&0&0&0&1&0&0\\\\\n",
    "0&0&0&0&0&1&0\\\\\n",
    "0&0&0&0&0&0&1\\\\\n",
    "\\end{bmatrix}-\n",
    "\\begin{bmatrix}\n",
    "0&1&1&0&0&0&0\\\\\n",
    "1&0&1&0&0&0&0\\\\\n",
    "1&1&0&0&0&0&0\\\\\n",
    "0&0&0&0&1&0&0\\\\\n",
    "0&0&0&1&0&0&0\\\\\n",
    "0&0&0&0&0&0&1\\\\\n",
    "0&0&0&0&0&1&0\\\\\n",
    "\\end{bmatrix} \\rightarrow L = \n",
    "\\begin{bmatrix}\n",
    "2&-1&-1&0&0&0&0\\\\\n",
    "-1&2&-1&0&0&0&0\\\\\n",
    "-1&-1&2&0&0&0&0\\\\\n",
    "0&0&0&1&-1&0&0\\\\\n",
    "0&0&0&-1&1&0&0\\\\\n",
    "0&0&0&0&0&1&-1\\\\\n",
    "0&0&0&0&0&-1&1\\\\\n",
    "\\end{bmatrix}$"
   ]
  },
  {
   "cell_type": "markdown",
   "id": "55803a43",
   "metadata": {},
   "source": [
    "$2.$ What are the first three eigenvectors of the Laplacian matrix (which corresponds to the\n",
    "smallest eigenvalues)?\n",
    "\n",
    "First three eigenvectors are where $\\lambda = 1$:\n",
    "\n",
    "$\\begin{bmatrix}1\\\\1\\\\1\\\\0\\\\0\\\\0\\\\0\\end{bmatrix},\n",
    "\\begin{bmatrix}0\\\\0\\\\0\\\\1\\\\1\\\\0\\\\0\\end{bmatrix},\n",
    "\\begin{bmatrix}0\\\\0\\\\0\\\\0\\\\0\\\\1\\\\1\\end{bmatrix}$"
   ]
  },
  {
   "cell_type": "markdown",
   "id": "7a8c058e",
   "metadata": {},
   "source": [
    "$3.$ Write down the spectral embedding representations of the data samples using these three\n",
    "eigenvectors."
   ]
  },
  {
   "cell_type": "markdown",
   "id": "fd520d6d",
   "metadata": {},
   "source": [
    "$[1, 0, 0], [1, 0, 0], [1, 0, 0], [0, 1, 0], [0, 1, 0], [0, 0, 1], [0, 0, 1]$"
   ]
  },
  {
   "cell_type": "markdown",
   "id": "d74b5887",
   "metadata": {},
   "source": [
    "# Q4.  Principal Component Analysis (PCA) \n",
    "\n",
    "Consider 4 data points in the 2-d space: $A=(−1, −1), B=(0.5, −0.5), C=(1, 1),$ and $D=(−0.5, 0.5)$"
   ]
  },
  {
   "cell_type": "markdown",
   "id": "d1321427",
   "metadata": {},
   "source": [
    "$1.$ What is the first principal component?"
   ]
  },
  {
   "cell_type": "code",
   "execution_count": 134,
   "id": "8cafc5bf",
   "metadata": {},
   "outputs": [
    {
     "data": {
      "text/plain": [
       "(1.0, (-1, 1))"
      ]
     },
     "execution_count": 134,
     "metadata": {},
     "output_type": "execute_result"
    }
   ],
   "source": [
    "data = np.array([[-1, -1], [0.5, -0.5], [1, 1], [-0.5, 0.5]])\n",
    "\n",
    "# Mean of each dimension\n",
    "mean_x = np.mean(data[:, 0])\n",
    "mean_y = np.mean(data[:, 1])\n",
    "covariance_matrix = np.array([[0.625, 0.375], [0.375, 0.625]])\n",
    "# covariance_matrix\n",
    "eigenvalues = [1, 0.25]\n",
    "eigenvectors = [(1, 1), (-1, 1)]\n",
    "max_evalue = np.max(eigenvalues)\n",
    "max_evalue, eigenvectors[1]"
   ]
  },
  {
   "cell_type": "markdown",
   "id": "47bf03da",
   "metadata": {},
   "source": [
    "Therefore, the first principal component is $\\begin{bmatrix}-1\\\\1\\end{bmatrix}$"
   ]
  },
  {
   "cell_type": "markdown",
   "id": "53fe165c",
   "metadata": {},
   "source": [
    "$2.$ If we project all points into the 1-d subspace by the first principal component, what is the new representation of the four data points?"
   ]
  },
  {
   "cell_type": "code",
   "execution_count": 143,
   "id": "750caf56",
   "metadata": {},
   "outputs": [
    {
     "name": "stdout",
     "output_type": "stream",
     "text": [
      "0, -1.0, 0, 1.0\n"
     ]
    }
   ],
   "source": [
    "new_a = np.dot([-1, -1], [-1, 1])\n",
    "new_b = np.dot([0.5, -0.5], [-1, 1])\n",
    "new_c = np.dot([1, 1], [-1, 1])\n",
    "new_d = np.dot([-0.5, 0.5], [-1, 1])\n",
    "\n",
    "print(f\"{new_a}, {new_b}, {new_c}, {new_d}\")"
   ]
  },
  {
   "cell_type": "code",
   "execution_count": null,
   "id": "595f6efd",
   "metadata": {},
   "outputs": [],
   "source": []
  }
 ],
 "metadata": {
  "kernelspec": {
   "display_name": "Python 3 (ipykernel)",
   "language": "python",
   "name": "python3"
  },
  "language_info": {
   "codemirror_mode": {
    "name": "ipython",
    "version": 3
   },
   "file_extension": ".py",
   "mimetype": "text/x-python",
   "name": "python",
   "nbconvert_exporter": "python",
   "pygments_lexer": "ipython3",
   "version": "3.11.4"
  }
 },
 "nbformat": 4,
 "nbformat_minor": 5
}
